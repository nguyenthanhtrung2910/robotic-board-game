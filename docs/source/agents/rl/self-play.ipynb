{
  "cells": [
    {
      "cell_type": "markdown",
      "metadata": {
        "id": "hWpqO3PtSA3s"
      },
      "source": [
        "## Self-play\n",
        "Following notebook will show you how to train agent to learn play in our [game](../../environment.rst) by sefl-play using our [API](../../api/index.rst)\n",
        ". This notebook is easier to understand if you has already read about our [game](../../environment.rst).  \n",
        "\n",
        "In this example, we will train an agent to control robot on the board with 3 robots and battery isn't considered."
      ]
    },
    {
      "cell_type": "markdown",
      "metadata": {
        "id": "7_pLHbYRCTbs"
      },
      "source": [
        "### Install our library."
      ]
    },
    {
      "cell_type": "code",
      "execution_count": 6,
      "metadata": {
        "execution": {
          "iopub.execute_input": "2024-11-28T08:42:29.001608Z",
          "iopub.status.busy": "2024-11-28T08:42:29.00094Z",
          "iopub.status.idle": "2024-11-28T08:42:31.704286Z",
          "shell.execute_reply": "2024-11-28T08:42:31.70335Z",
          "shell.execute_reply.started": "2024-11-28T08:42:29.001561Z"
        },
        "id": "9nSQYwzN6MWP",
        "trusted": true
      },
      "outputs": [],
      "source": [
        "%pip install -q rbgame"
      ]
    },
    {
      "cell_type": "code",
      "execution_count": null,
      "metadata": {
        "execution": {
          "iopub.execute_input": "2024-11-28T08:46:33.459882Z",
          "iopub.status.busy": "2024-11-28T08:46:33.459048Z",
          "iopub.status.idle": "2024-11-28T08:46:33.464612Z",
          "shell.execute_reply": "2024-11-28T08:46:33.463781Z",
          "shell.execute_reply.started": "2024-11-28T08:46:33.459847Z"
        },
        "id": "pE56ej286MWT",
        "trusted": true
      },
      "outputs": [],
      "source": [
        "import os\n",
        "import time\n",
        "import math\n",
        "from pprint import pprint\n",
        "from typing import Any\n",
        "\n",
        "import numpy as np\n",
        "import yaml\n",
        "import matplotlib.pyplot as plt\n",
        "import torch\n",
        "import gymnasium as gym\n",
        "from torch import nn, optim\n",
        "import pygame\n",
        "from tianshou.utils.net.common import Net\n",
        "from tianshou.policy import DQNPolicy, C51Policy\n",
        "from tianshou.data import PrioritizedVectorReplayBuffer\n",
        "from rbgame.trainer import DecentralizedTrainer\n",
        "from rbgame.agent.rl_agent import OffPolicyAgent"
      ]
    },
    {
      "cell_type": "markdown",
      "metadata": {
        "id": "_SEY3dLv14yZ"
      },
      "source": [
        "### Create the neural network and policy.\n",
        "Simply, policy is neural network with 2 main methods:\n",
        "\n",
        "* `forward()`, what shows how policy can provide action based on the input observation.\n",
        "* `update()`, what shows how policy can update its networks.\n",
        "\n",
        "For policies implementions, we use friendly and easy customizable library tianshou. Visit [their documentation](https://tianshou.org/en/stable/index.html) for more details.\n",
        "\n",
        "Because our action space is discrete, the most efficient and suitable simple algorithm recommended is [DQN](https://arxiv.org/pdf/1312.5602).\n",
        "\n",
        "For now, we're using decentralized method which mean each agent controls one robots and they only learns to optimize its own reward, they're not concerned about what other do. Therefore, in training phase, we train agents independently and in test phase, they can play together as one team. For example, we train 8 robots and after that, we let 4 robots play in one team. \n",
        "\n",
        "Because observation from our environment is feature vector of all robots so we don't need complicate CNN or RNN to extract features. We need only simple multi-layer perceptron."
      ]
    },
    {
      "cell_type": "code",
      "execution_count": 18,
      "metadata": {
        "execution": {
          "iopub.execute_input": "2024-11-28T08:47:32.541455Z",
          "iopub.status.busy": "2024-11-28T08:47:32.540543Z",
          "iopub.status.idle": "2024-11-28T08:47:36.171367Z",
          "shell.execute_reply": "2024-11-28T08:47:36.170261Z",
          "shell.execute_reply.started": "2024-11-28T08:47:32.541417Z"
        },
        "id": "mPI_FNdq6MWW",
        "trusted": true
      },
      "outputs": [],
      "source": [
        "# see about Net object in https://tianshou.org/en/stable/03_api/utils/net/common.html#tianshou.utils.net.common.Net\n",
        "net = Net(\n",
        "    # state_shape is obsevation vector shape,\n",
        "    # every robot have 3 features (x, y, mail_index) and we have 3 robots on the board\n",
        "    state_shape=3*3,\n",
        "    # 5 actions are possible\n",
        "    action_shape=5,\n",
        "    # network hidden layer sizes\n",
        "    hidden_sizes=[1024, 1024, 512, 512, 256, 256, 128, 128, 64, 64],\n",
        "    # LayerNorm for avoid vanishing and exploding gradients\n",
        "    norm_layer=nn.LayerNorm,\n",
        "    # GPU divice\n",
        "    device='cuda',\n",
        "    # dueling part of network, see https://arxiv.org/pdf/1511.06581\n",
        "    dueling_param=[{'hidden_sizes':[32], 'norm_layer':nn.LayerNorm},\n",
        "                   {'hidden_sizes':[32], 'norm_layer':nn.LayerNorm}],\n",
        ")\n",
        "# see about DQNPolicy in https://tianshou.org/en/stable/03_api/policy/modelfree/dqn.html#tianshou.policy.modelfree.dqn.DQNPolicy\n",
        "policy = DQNPolicy(\n",
        "    model=net,\n",
        "    # Adam optim with learning rate = 0.0001\n",
        "    optim=optim.Adam(net.parameters(), lr=0.0001),\n",
        "    # discrete action space with 5 possible actions\n",
        "    action_space=gym.spaces.Discrete(5),\n",
        "    # discount_factor \\gamma\n",
        "    discount_factor=0.99,\n",
        "    # multi-step return n, see https://arxiv.org/pdf/1509.06461\n",
        "    estimation_step=30,\n",
        "    # frequency for target network updating\n",
        "    target_update_freq=500,\n",
        "    # Double DQN, see https://arxiv.org/pdf/1509.06461\n",
        "    is_double=True,\n",
        ")"
      ]
    },
    {
      "cell_type": "markdown",
      "metadata": {
        "id": "qVq2-Nyz_PLd"
      },
      "source": [
        "Let see our network architure."
      ]
    },
    {
      "cell_type": "code",
      "execution_count": 19,
      "metadata": {
        "colab": {
          "base_uri": "https://localhost:8080/"
        },
        "id": "w25x_3fO_OgY",
        "outputId": "e17bbffa-b49d-4dd3-f252-8903f964594c"
      },
      "outputs": [
        {
          "data": {
            "text/plain": [
              "Net(\n",
              "  (model): MLP(\n",
              "    (model): Sequential(\n",
              "      (0): Linear(in_features=9, out_features=1024, bias=True)\n",
              "      (1): LayerNorm((1024,), eps=1e-05, elementwise_affine=True)\n",
              "      (2): ReLU()\n",
              "      (3): Linear(in_features=1024, out_features=1024, bias=True)\n",
              "      (4): LayerNorm((1024,), eps=1e-05, elementwise_affine=True)\n",
              "      (5): ReLU()\n",
              "      (6): Linear(in_features=1024, out_features=512, bias=True)\n",
              "      (7): LayerNorm((512,), eps=1e-05, elementwise_affine=True)\n",
              "      (8): ReLU()\n",
              "      (9): Linear(in_features=512, out_features=512, bias=True)\n",
              "      (10): LayerNorm((512,), eps=1e-05, elementwise_affine=True)\n",
              "      (11): ReLU()\n",
              "      (12): Linear(in_features=512, out_features=256, bias=True)\n",
              "      (13): LayerNorm((256,), eps=1e-05, elementwise_affine=True)\n",
              "      (14): ReLU()\n",
              "      (15): Linear(in_features=256, out_features=256, bias=True)\n",
              "      (16): LayerNorm((256,), eps=1e-05, elementwise_affine=True)\n",
              "      (17): ReLU()\n",
              "      (18): Linear(in_features=256, out_features=128, bias=True)\n",
              "      (19): LayerNorm((128,), eps=1e-05, elementwise_affine=True)\n",
              "      (20): ReLU()\n",
              "      (21): Linear(in_features=128, out_features=128, bias=True)\n",
              "      (22): LayerNorm((128,), eps=1e-05, elementwise_affine=True)\n",
              "      (23): ReLU()\n",
              "      (24): Linear(in_features=128, out_features=64, bias=True)\n",
              "      (25): LayerNorm((64,), eps=1e-05, elementwise_affine=True)\n",
              "      (26): ReLU()\n",
              "      (27): Linear(in_features=64, out_features=64, bias=True)\n",
              "      (28): LayerNorm((64,), eps=1e-05, elementwise_affine=True)\n",
              "      (29): ReLU()\n",
              "    )\n",
              "  )\n",
              "  (Q): MLP(\n",
              "    (model): Sequential(\n",
              "      (0): Linear(in_features=64, out_features=32, bias=True)\n",
              "      (1): LayerNorm((32,), eps=1e-05, elementwise_affine=True)\n",
              "      (2): ReLU()\n",
              "      (3): Linear(in_features=32, out_features=5, bias=True)\n",
              "    )\n",
              "  )\n",
              "  (V): MLP(\n",
              "    (model): Sequential(\n",
              "      (0): Linear(in_features=64, out_features=32, bias=True)\n",
              "      (1): LayerNorm((32,), eps=1e-05, elementwise_affine=True)\n",
              "      (2): ReLU()\n",
              "      (3): Linear(in_features=32, out_features=1, bias=True)\n",
              "    )\n",
              "  )\n",
              ")"
            ]
          },
          "execution_count": 19,
          "metadata": {},
          "output_type": "execute_result"
        }
      ],
      "source": [
        "net"
      ]
    },
    {
      "cell_type": "markdown",
      "metadata": {
        "id": "HROUqP_N_e-o"
      },
      "source": [
        "### Create memory.\n",
        "We'll use [Prioritized Replay Buffer](https://arxiv.org/pdf/1511.05952). To accelerate training, we'll use two stuffs:\n",
        "\n",
        "* First, agent parallel plays in many environments (neural network can feed forward batch of observations from many environments, its faster than feed each one through).\n",
        "* Second, agent not only save its own transitions, but also transitions of other agents.\n",
        "\n",
        "So we need to save transitions correctly in memory. That mean transitions for one agent and one environment need to be saved exactly in one replay buffer."
      ]
    },
    {
      "cell_type": "code",
      "execution_count": 20,
      "metadata": {
        "execution": {
          "iopub.execute_input": "2024-11-28T08:48:57.685333Z",
          "iopub.status.busy": "2024-11-28T08:48:57.684277Z",
          "iopub.status.idle": "2024-11-28T08:49:01.45006Z",
          "shell.execute_reply": "2024-11-28T08:49:01.449036Z",
          "shell.execute_reply.started": "2024-11-28T08:48:57.685299Z"
        },
        "id": "3LIxIvIA6MWX",
        "trusted": true
      },
      "outputs": [],
      "source": [
        "# see about PrioritizedVectorReplayBuffer in \n",
        "# https://tianshou.org/en/stable/03_api/data/buffer/vecbuf.html#tianshou.data.buffer.vecbuf.PrioritizedVectorReplayBuffer\n",
        "memory = PrioritizedVectorReplayBuffer(\n",
        "    # total size of memory is product of maximum number parallel environments steps and number episodes\n",
        "    # to train, so memory can storage all excuted transitions during training\n",
        "    total_size=500*5000,\n",
        "    # agent save not only its transitions but also transitions of other agents so\n",
        "    # number buffers is product of number parallel environments and numbers robots\n",
        "    buffer_num=3*16,\n",
        "    # prioritization exponent \\alpha\n",
        "    alpha=0.6,\n",
        "    # prioritization importance sampling \\beta\n",
        "    beta=0.4,\n",
        ")"
      ]
    },
    {
      "cell_type": "markdown",
      "metadata": {
        "id": "hIxQUPe1DfAZ"
      },
      "source": [
        "### Create agent.\n",
        "DQN is off-policy algorithm so we use [OffPolicyAgent](../../api/agent/rl_agent.rst).\n",
        "\n",
        "We're using self-play, which mean one agent'll play as all players, it controls one robot in current turn and continues to control other in next turn. So all elements in `agents` list point to one unique [OffPolicyAgent](../../api/agent/rl_agent.rst) object."
      ]
    },
    {
      "cell_type": "code",
      "execution_count": 21,
      "metadata": {
        "execution": {
          "iopub.execute_input": "2024-11-28T08:49:29.395553Z",
          "iopub.status.busy": "2024-11-28T08:49:29.394948Z",
          "iopub.status.idle": "2024-11-28T08:49:29.399868Z",
          "shell.execute_reply": "2024-11-28T08:49:29.399031Z",
          "shell.execute_reply.started": "2024-11-28T08:49:29.395518Z"
        },
        "id": "L-cPxA6n6MWX",
        "trusted": true
      },
      "outputs": [],
      "source": [
        "agent = OffPolicyAgent(\n",
        "    policy=policy,\n",
        "    memory=memory,\n",
        "    # how many times agent samples from memory and learns per one step, using only in offpolicy algorithms.\n",
        "    update_per_step=0.02,\n",
        ")\n",
        "agents = [agent]*3"
      ]
    },
    {
      "cell_type": "markdown",
      "metadata": {
        "id": "LE0aZue-ECbw"
      },
      "source": [
        "### Create trainer.\n",
        "First, we need to adjust some hyperparameters during training. They're exploration coefficient ϵ, which decides how agent explores during training, and prioritization importance sampling β of Prioritized Replay Buffer.\n",
        "\n",
        "In this example, we'll let α decreases from 1.0 → 0.05 along 5000 episodes of traning by following function:\n",
        "$$ϵ = max(b*f^n, e)$$\n",
        "where $b=1.0$ - begin value, $f = 0.9995$ - decay factor, $e = 0.05$ - end value, and $n$ - number collected episodes.\n",
        "\n",
        "And the β is adjusted from 0.4 → 1.0 according to recommendation from [original paper](https://arxiv.org/pdf/1511.05952):\n",
        "$$\\beta = e + (b-e)*e^{-rn}$$\n",
        "where $b=0.4$ - begin value, $r = 0.002$ - decay rate, $e = 1.0$ - end value, and $n$ - number collected episodes."
      ]
    },
    {
      "cell_type": "code",
      "execution_count": 2,
      "metadata": {},
      "outputs": [],
      "source": [
        "def exponential_annealing(begin, end, decay_factor):\n",
        "    return lambda episode: max(begin*decay_factor**episode, end)\n",
        "\n",
        "def natural_exponential_annealing(begin, end, rate):\n",
        "    return lambda episode: end + (begin - end) * math.exp(-rate * episode)\n",
        "\n",
        "def cosine_annealing(begin, end, steps):\n",
        "    return lambda x: max((1 - math.cos(x * math.pi / steps)) / 2, 0) * (end - begin) + begin if x <= steps else end"
      ]
    },
    {
      "cell_type": "markdown",
      "metadata": {},
      "source": [
        "Let see graphics of these functions."
      ]
    },
    {
      "cell_type": "code",
      "execution_count": 5,
      "metadata": {},
      "outputs": [
        {
          "data": {
            "image/png": "[encoded data removed]",
            "text/plain": [
              "<Figure size 1200x400 with 2 Axes>"
            ]
          },
          "metadata": {},
          "output_type": "display_data"
        }
      ],
      "source": [
        "# A scheduler to adjust exploration coefficient \\epsilon during training\n",
        "eps_schedule = exponential_annealing(1.0, 0.05, 0.9995)\n",
        "# A scheduler to adjust prioritization importance sampling \\beta during training\n",
        "beta_schedule = natural_exponential_annealing(0.4, 1.0, 0.002)\n",
        "\n",
        "fig, axes = plt.subplots(1, 2, figsize=(12, 4))\n",
        "axes[0].plot([eps_schedule(ep)for ep in range(5_000)])\n",
        "axes[0].set_ylabel(r\"$\\epsilon$\", rotation=\"horizontal\", fontsize=12)\n",
        "axes[0].set_xlabel(\"Number episodes\", fontsize=12)\n",
        "axes[0].set_title(r\"Typical $\\epsilon$ annealing schedule\", fontsize=12)\n",
        "axes[0].grid()\n",
        "axes[1].plot([beta_schedule(ep)for ep in range(5_000)])\n",
        "axes[1].set_ylabel(r\"$\\beta$\", rotation=\"horizontal\", fontsize=12)\n",
        "axes[1].set_xlabel(\"Number episodes\", fontsize=12)\n",
        "axes[1].set_title(r\"Typical $\\beta$ annealing schedule\", fontsize=12)\n",
        "axes[1].grid()\n",
        "fig.tight_layout()\n",
        "plt.show()"
      ]
    },
    {
      "cell_type": "markdown",
      "metadata": {},
      "source": [
        "Next, we must to define some functions to specify what we do during training like adjusting hyperparameters and saving checkpoints. "
      ]
    },
    {
      "cell_type": "code",
      "execution_count": 22,
      "metadata": {
        "execution": {
          "iopub.execute_input": "2024-11-28T08:49:56.971802Z",
          "iopub.status.busy": "2024-11-28T08:49:56.971065Z",
          "iopub.status.idle": "2024-11-28T08:49:56.982351Z",
          "shell.execute_reply": "2024-11-28T08:49:56.981564Z",
          "shell.execute_reply.started": "2024-11-28T08:49:56.971764Z"
        },
        "id": "fHKh2u9e6MWX",
        "trusted": true
      },
      "outputs": [],
      "source": [
        "FOLDER = 'DQNagent'\n",
        "os.makedirs(os.path.join(os.getcwd(), FOLDER), exist_ok=True)\n",
        "# best model checkpoint\n",
        "best_ckpt=os.path.join(FOLDER, 'best.pth')\n",
        "# last model checkpoint\n",
        "last_ckpt=os.path.join(FOLDER, 'last.pth')\n",
        "# optimizer checkpoint\n",
        "optim_ckpt=os.path.join(FOLDER, 'optim.pth')\n",
        "# policy config checkpoint\n",
        "policy_ckpt=os.path.join(FOLDER, 'policy.yaml')\n",
        "# detect model with best metric only begins after that episode\n",
        "episode_to_save=1000\n",
        "\n",
        "# called after a few episodes to change \\epsilon and \\beta\n",
        "def train_fn(episode: int, step: int) -> None:\n",
        "    agent.policy.set_eps(eps_schedule(episode))\n",
        "    agent.memory.set_beta(beta_schedule(episode))\n",
        "\n",
        "# called when detect better metric\n",
        "def save_best_fn(episode: int) -> None:\n",
        "    if episode > episode_to_save:\n",
        "        torch.save(agent.policy.state_dict(), best_ckpt)\n",
        "\n",
        "# called when training is finished\n",
        "def save_last_fn() -> None:\n",
        "    torch.save(agent.policy.state_dict(), last_ckpt)\n",
        "    torch.save(agent.policy.optim.state_dict() , optim_ckpt)\n",
        "    policy_state = {}\n",
        "    policy_state['type'] = agent.policy.__class__.__module__+\".\"+agent.policy.__class__.__name__\n",
        "    policy_state['model'] = dict(\n",
        "        type=agent.policy.model.__class__.__module__+\".\"+agent.policy.model.__class__.__name__,\n",
        "        state_shape=3*3,\n",
        "        action_shape=5,\n",
        "        hidden_sizes=[1024, 1024, 512, 512, 256, 256, 128, 128, 64, 64],\n",
        "        norm_layer=nn.LayerNorm.__module__+'.'+nn.LayerNorm.__name__,\n",
        "        device='cuda',\n",
        "        dueling_param=[{'hidden_sizes':[32], 'norm_layer':nn.LayerNorm.__module__+'.'+nn.LayerNorm.__name__},\n",
        "                        {'hidden_sizes':[32], 'norm_layer':nn.LayerNorm.__module__+'.'+nn.LayerNorm.__name__}],\n",
        "    )\n",
        "    policy_state['optim'] = dict(\n",
        "        type=agent.policy.optim.__class__.__module__+\".\"+agent.policy.optim.__class__.__name__,\n",
        "    )\n",
        "    policy_state['action_space'] = dict(\n",
        "        type=agent.policy.action_space.__class__.__module__+\".\"+agent.policy.action_space.__class__.__name__,\n",
        "        n=5,\n",
        "    )\n",
        "    policy_state.update(dict(\n",
        "        discount_factor=0.99,\n",
        "        estimation_step=30,\n",
        "        target_update_freq=500,\n",
        "        is_double=True,\n",
        "    ))\n",
        "    with open(policy_ckpt, 'w') as file:\n",
        "        yaml.dump(policy_state, file, default_flow_style=False, sort_keys=False)"
      ]
    },
    {
      "cell_type": "code",
      "execution_count": 25,
      "metadata": {
        "id": "qjDX9B9jGkqm"
      },
      "outputs": [],
      "source": [
        "# copy layout .csv file from our package to initalize environment\n",
        "%cp -r /usr/local/lib/python3.10/dist-packages/rbgame/assets ."
      ]
    },
    {
      "cell_type": "markdown",
      "metadata": {},
      "source": [
        "Now, we ready to create a [DecentralizedTrainer](../../api/trainer.rst)."
      ]
    },
    {
      "cell_type": "code",
      "execution_count": 31,
      "metadata": {
        "execution": {
          "iopub.execute_input": "2024-11-28T08:51:30.118922Z",
          "iopub.status.busy": "2024-11-28T08:51:30.118535Z",
          "iopub.status.idle": "2024-11-28T08:51:30.219622Z",
          "shell.execute_reply": "2024-11-28T08:51:30.218944Z",
          "shell.execute_reply.started": "2024-11-28T08:51:30.118891Z"
        },
        "id": "2tL9Piyr6MWX",
        "trusted": true
      },
      "outputs": [],
      "source": [
        "trainer = DecentralizedTrainer(\n",
        "    # environment arguments\n",
        "    env_args = dict(\n",
        "        colors_map='assets/csv_files/colors_map.csv',\n",
        "        targets_map='assets/csv_files/targets_map.csv',\n",
        "        # 5 mails to win\n",
        "        required_mail=5,\n",
        "        # 3 players\n",
        "        robot_colors=['r', 'b', 'gr'],\n",
        "        # 1 robot for each players\n",
        "        num_robots_per_player=1,\n",
        "        # battery isn't considered\n",
        "        with_battery=False,\n",
        "        # one step per turn\n",
        "        random_num_steps=False,\n",
        "        # maximum environment step\n",
        "        max_step=600,\n",
        "    ),\n",
        "    # number parallel environments to train\n",
        "    num_train_envs=16,\n",
        "    # number parallel environments to test\n",
        "    num_test_envs=16,\n",
        "    batch_size=64,\n",
        "    # after how many step update network\n",
        "    update_freq=200,\n",
        "    # after how many episodesdo a test\n",
        "    test_freq=100,\n",
        "    # number episodes to train\n",
        "    episodes_per_train=5_000,\n",
        "    # number episodes per test\n",
        "    episodes_per_test=48,\n",
        "    train_fn=train_fn,\n",
        "    save_best_fn=save_best_fn,\n",
        "    save_last_fn=save_last_fn,\n",
        ")"
      ]
    },
    {
      "cell_type": "markdown",
      "metadata": {
        "id": "kWKyBmBuIo_q"
      },
      "source": [
        "### Start training."
      ]
    },
    {
      "cell_type": "code",
      "execution_count": null,
      "metadata": {
        "execution": {
          "iopub.execute_input": "2024-11-28T08:51:32.615734Z",
          "iopub.status.busy": "2024-11-28T08:51:32.614897Z",
          "iopub.status.idle": "2024-11-28T08:51:32.900983Z",
          "shell.execute_reply": "2024-11-28T08:51:32.900205Z",
          "shell.execute_reply.started": "2024-11-28T08:51:32.6157Z"
        },
        "id": "0yzuATGx6MWY",
        "trusted": true
      },
      "outputs": [],
      "source": [
        "agent.policy.to('cuda')"
      ]
    },
    {
      "cell_type": "code",
      "execution_count": null,
      "metadata": {
        "execution": {
          "iopub.execute_input": "2024-11-27T21:30:34.505805Z",
          "iopub.status.busy": "2024-11-27T21:30:34.505465Z",
          "iopub.status.idle": "2024-11-27T21:30:34.509694Z",
          "shell.execute_reply": "2024-11-27T21:30:34.508775Z",
          "shell.execute_reply.started": "2024-11-27T21:30:34.505776Z"
        },
        "id": "B4pCnjtX6MWY",
        "trusted": true
      },
      "outputs": [],
      "source": [
        "# def move_optimizer_to_device(optimizer, device):\n",
        "#     for state in optimizer.state.values():\n",
        "#         for k, v in state.items():\n",
        "#             if isinstance(v, torch.Tensor):\n",
        "#                 state[k] = v.to(device)\n",
        "# move_optimizer_to_device(agent.policy.optim, 'cuda')"
      ]
    },
    {
      "cell_type": "code",
      "execution_count": 33,
      "metadata": {
        "colab": {
          "base_uri": "https://localhost:8080/",
          "height": 1000
        },
        "execution": {
          "iopub.execute_input": "2024-11-28T08:51:38.043662Z",
          "iopub.status.busy": "2024-11-28T08:51:38.043305Z",
          "iopub.status.idle": "2024-11-28T13:04:23.011198Z",
          "shell.execute_reply": "2024-11-28T13:04:23.010532Z",
          "shell.execute_reply.started": "2024-11-28T08:51:38.04363Z"
        },
        "id": "X-9YjJik6MWY",
        "outputId": "665995ad-85a7-4f26-ffb7-0a73b98f1c38",
        "trusted": true
      },
      "outputs": [
        {
          "name": "stdout",
          "output_type": "stream",
          "text": [
            "===episode 0112 done with number steps: 247.2, reward: +13.67===\n",
            "===episode 0224 done with number steps: 236.5, reward: +14.46===\n",
            "===episode 0336 done with number steps: 225.3, reward: +14.79===\n",
            "===episode 0448 done with number steps: 208.1, reward: +18.06===\n",
            "===episode 0560 done with number steps: 208.6, reward: +17.36===\n",
            "===episode 0672 done with number steps: 419.4, reward: +01.80===\n",
            "===episode 0784 done with number steps: 199.7, reward: +18.81===\n",
            "===episode 0896 done with number steps: 215.3, reward: +18.76===\n",
            "===episode 1008 done with number steps: 198.0, reward: +19.55===\n",
            "===episode 1120 done with number steps: 187.5, reward: +19.88===\n",
            "===episode 1232 done with number steps: 188.7, reward: +18.89===\n",
            "===episode 1344 done with number steps: 261.1, reward: +15.00===\n",
            "===episode 1456 done with number steps: 181.5, reward: +19.38===\n",
            "===episode 1568 done with number steps: 195.6, reward: +19.35===\n",
            "===episode 1680 done with number steps: 249.7, reward: +15.96===\n",
            "===episode 1792 done with number steps: 198.4, reward: +19.35===\n",
            "===episode 1904 done with number steps: 232.0, reward: +15.91===\n",
            "===episode 2016 done with number steps: 181.6, reward: +20.21===\n",
            "===episode 2128 done with number steps: 204.0, reward: +18.16===\n",
            "===episode 2240 done with number steps: 177.8, reward: +19.98===\n",
            "===episode 2352 done with number steps: 180.8, reward: +20.16===\n",
            "===episode 2464 done with number steps: 181.1, reward: +19.13===\n",
            "===episode 2576 done with number steps: 171.7, reward: +20.30===\n",
            "===episode 2688 done with number steps: 183.8, reward: +19.20===\n",
            "===episode 2800 done with number steps: 193.9, reward: +17.13===\n",
            "===episode 2912 done with number steps: 176.9, reward: +19.90===\n",
            "===episode 3024 done with number steps: 200.2, reward: +17.22===\n",
            "===episode 3136 done with number steps: 189.6, reward: +19.21===\n",
            "===episode 3248 done with number steps: 179.4, reward: +20.13===\n",
            "===episode 3360 done with number steps: 226.0, reward: +15.63===\n",
            "===episode 3472 done with number steps: 208.2, reward: +17.24===\n",
            "===episode 3584 done with number steps: 186.4, reward: +19.33===\n",
            "===episode 3696 done with number steps: 208.9, reward: +18.75===\n",
            "===episode 3808 done with number steps: 174.5, reward: +19.87===\n",
            "===episode 3920 done with number steps: 181.8, reward: +20.07===\n",
            "===episode 4032 done with number steps: 179.8, reward: +19.98===\n",
            "===episode 4144 done with number steps: 180.6, reward: +19.62===\n",
            "===episode 4256 done with number steps: 177.8, reward: +19.85===\n",
            "===episode 4368 done with number steps: 177.5, reward: +19.87===\n",
            "===episode 4480 done with number steps: 185.0, reward: +20.14===\n",
            "===episode 4592 done with number steps: 179.2, reward: +19.38===\n",
            "===episode 4704 done with number steps: 194.9, reward: +19.68===\n",
            "===episode 4816 done with number steps: 209.4, reward: +18.98===\n",
            "===episode 4928 done with number steps: 177.6, reward: +19.63===\n"
          ]
        },
        {
          "data": {
            "image/png": "[encoded data removed]",
            "text/plain": [
              "<Figure size 600x400 with 1 Axes>"
            ]
          },
          "metadata": {},
          "output_type": "display_data"
        }
      ],
      "source": [
        "train_stat = trainer.train(\n",
        "    # self-play, all elements in agents list point to one unique OffPolicyAgent object.\n",
        "    agents, \n",
        "    # Only the first agent learns, the other agents are the same agent.\n",
        "    [i == 0 for i,_ in enumerate(agents)]\n",
        ")"
      ]
    },
    {
      "cell_type": "code",
      "execution_count": 35,
      "metadata": {
        "colab": {
          "base_uri": "https://localhost:8080/"
        },
        "id": "-ZqDUgo3OIls",
        "outputId": "5acd4204-7858-4ee7-c9f6-85ed0b4387fc"
      },
      "outputs": [
        {
          "name": "stdout",
          "output_type": "stream",
          "text": [
            "{'num_collected_episodes': 5008,\n",
            " 'num_collected_steps': 1553841,\n",
            " 'num_gradient_steps': 29952,\n",
            " 'training_time': 990.6171650886536}\n"
          ]
        }
      ],
      "source": [
        "train_stat.pop('reward_metric_stats')\n",
        "pprint(train_stat)"
      ]
    },
    {
      "cell_type": "markdown",
      "metadata": {},
      "source": [
        "Training takes about 15 minutes on Colab GPU."
      ]
    },
    {
      "cell_type": "markdown",
      "metadata": {
        "id": "sXU0S_eRM4e3"
      },
      "source": [
        "### Evaluation.\n",
        "Let see how agent perform in environment with bigger required number mails."
      ]
    },
    {
      "cell_type": "code",
      "execution_count": 39,
      "metadata": {
        "execution": {
          "iopub.execute_input": "2024-11-27T21:30:37.776548Z",
          "iopub.status.busy": "2024-11-27T21:30:37.775796Z",
          "iopub.status.idle": "2024-11-27T21:30:37.813503Z",
          "shell.execute_reply": "2024-11-27T21:30:37.812682Z",
          "shell.execute_reply.started": "2024-11-27T21:30:37.776514Z"
        },
        "id": "4PBU3D6Q6MWY",
        "trusted": true
      },
      "outputs": [],
      "source": [
        "tester = DecentralizedTrainer(\n",
        "    env_args = dict(\n",
        "        colors_map='assets/csv_files/colors_map.csv',\n",
        "        targets_map='assets/csv_files/targets_map.csv',\n",
        "        required_mail=15,\n",
        "        robot_colors=['r', 'b', 'gr'],\n",
        "        num_robots_per_player=1,\n",
        "        with_battery=False,\n",
        "        random_num_steps=False,\n",
        "        max_step=2000,\n",
        "    ),\n",
        "    num_test_envs=16,\n",
        "    episodes_per_test=48,\n",
        ")"
      ]
    },
    {
      "cell_type": "code",
      "execution_count": 37,
      "metadata": {
        "colab": {
          "base_uri": "https://localhost:8080/"
        },
        "execution": {
          "iopub.execute_input": "2024-11-26T22:19:57.726051Z",
          "iopub.status.busy": "2024-11-26T22:19:57.725655Z",
          "iopub.status.idle": "2024-11-26T22:19:57.776138Z",
          "shell.execute_reply": "2024-11-26T22:19:57.775144Z",
          "shell.execute_reply.started": "2024-11-26T22:19:57.726017Z"
        },
        "id": "an_r03VB6MWZ",
        "outputId": "44e215ab-b063-4794-ca77-bc1e7cd407d5",
        "trusted": true
      },
      "outputs": [
        {
          "data": {
            "text/plain": [
              "<All keys matched successfully>"
            ]
          },
          "execution_count": 37,
          "metadata": {},
          "output_type": "execute_result"
        }
      ],
      "source": [
        "# load best model to perform\n",
        "agent.policy.load_state_dict(torch.load(f=best_ckpt, weights_only=True, map_location=torch.device(agent.policy.model.device)))"
      ]
    },
    {
      "cell_type": "code",
      "execution_count": 41,
      "metadata": {
        "colab": {
          "base_uri": "https://localhost:8080/"
        },
        "execution": {
          "iopub.execute_input": "2024-11-27T21:19:19.67718Z",
          "iopub.status.busy": "2024-11-27T21:19:19.676402Z",
          "iopub.status.idle": "2024-11-27T21:19:29.046448Z",
          "shell.execute_reply": "2024-11-27T21:19:29.045625Z",
          "shell.execute_reply.started": "2024-11-27T21:19:19.677145Z"
        },
        "id": "oueoNlE16MWZ",
        "outputId": "0e5fcee0-de81-47aa-ad58-c4e92b03d09c",
        "trusted": true
      },
      "outputs": [
        {
          "name": "stdout",
          "output_type": "stream",
          "text": [
            "{'count_wins': {'b': 17, 'gr': 13, 'r': 18},\n",
            " 'mean_num_steps': 579.6458333333334,\n",
            " 'num_collected_episodes': 48,\n",
            " 'num_collected_steps': 27823,\n",
            " 'reward': 65.62430555555545,\n",
            " 'time_spans': 572.7916666666666}\n"
          ]
        }
      ],
      "source": [
        "pprint(tester.test(agents, True))"
      ]
    },
    {
      "cell_type": "markdown",
      "metadata": {
        "id": "aNmR0Py4Osic"
      },
      "source": [
        "The game process statistics can be evaluated by method `DecentralizedTrainer.test(agents, eval_metrics=True)`. It show you average time span of the game process in `'time_spans'` key and number of wins for each player across all episodes of test in `'count_wins'` key. It seem like we have balance game when all players have almost the same number of wins.\n",
        "\n",
        "Our trained model work well, no game is ended without winner. But because it's example so we have small number robots on the board. For more robots and robot moves with battery, which mean larger observation space and agent also have to learn to charge the battery when it is low, we need longer training and tuning hyperparameters."
      ]
    }
  ],
  "metadata": {
    "accelerator": "GPU",
    "colab": {
      "gpuType": "T4",
      "provenance": []
    },
    "kaggle": {
      "accelerator": "nvidiaTeslaT4",
      "dataSources": [
        {
          "isSourceIdPinned": true,
          "modelId": 175330,
          "modelInstanceId": 152882,
          "sourceId": 179440,
          "sourceType": "modelInstanceVersion"
        }
      ],
      "dockerImageVersionId": 30786,
      "isGpuEnabled": true,
      "isInternetEnabled": true,
      "language": "python",
      "sourceType": "notebook"
    },
    "kernelspec": {
      "display_name": ".venv",
      "language": "python",
      "name": "python3"
    },
    "language_info": {
      "codemirror_mode": {
        "name": "ipython",
        "version": 3
      },
      "file_extension": ".py",
      "mimetype": "text/x-python",
      "name": "python",
      "nbconvert_exporter": "python",
      "pygments_lexer": "ipython3",
      "version": "3.12.3"
    }
  },
  "nbformat": 4,
  "nbformat_minor": 0
}
